{
  "nbformat": 4,
  "nbformat_minor": 0,
  "metadata": {
    "colab": {
      "provenance": []
    },
    "kernelspec": {
      "name": "python3",
      "display_name": "Python 3"
    },
    "language_info": {
      "name": "python"
    }
  },
  "cells": [
    {
      "cell_type": "code",
      "source": [
        "numeros = [3, 7, 2, 8, 10]\n",
        "soma = 0\n",
        "\n",
        "for numero in numeros:\n",
        "    soma += numero\n",
        "\n",
        "print(\"A soma dos números é:\", soma)\n"
      ],
      "metadata": {
        "colab": {
          "base_uri": "https://localhost:8080/"
        },
        "id": "1I85hQzXqzFx",
        "outputId": "410ecf85-0602-4135-df63-5b5d175b9cfc"
      },
      "execution_count": null,
      "outputs": [
        {
          "output_type": "stream",
          "name": "stdout",
          "text": [
            "A soma dos números é: 30\n"
          ]
        }
      ]
    },
    {
      "cell_type": "code",
      "source": [
        "palavra = input(\"Digite uma palavra: \")\n",
        "contagem = 0\n",
        "\n",
        "for letra in palavra:\n",
        "    if letra == \"a\" or letra == \"e\" or letra == \"i\" or letra == \"o\" or letra == \"u\":\n",
        "        contagem = contagem + 1\n",
        "\n",
        "print(\"Número de vogais:\", contagem)\n"
      ],
      "metadata": {
        "colab": {
          "base_uri": "https://localhost:8080/"
        },
        "id": "NHjskdparMkK",
        "outputId": "752e6fb2-14e4-48d0-c2bc-7cf7f0366c8f"
      },
      "execution_count": null,
      "outputs": [
        {
          "output_type": "stream",
          "name": "stdout",
          "text": [
            "Digite uma palavra: batata\n",
            "Número de vogais: 3\n"
          ]
        }
      ]
    },
    {
      "cell_type": "code",
      "source": [
        "nomes = [\"Ana\", \"João\", \"Carlos\", \"Maria\"]\n",
        "invertida = []\n",
        "\n",
        "i = len(nomes) - 1\n",
        "\n",
        "while i >= 0:\n",
        "    invertida.append(nomes[i])\n",
        "    i = i - 1\n",
        "\n",
        "print(invertida)\n"
      ],
      "metadata": {
        "colab": {
          "base_uri": "https://localhost:8080/"
        },
        "id": "CiERGwZTrdZp",
        "outputId": "f608b941-87c5-4299-e853-1a1dee5b1aba"
      },
      "execution_count": null,
      "outputs": [
        {
          "output_type": "stream",
          "name": "stdout",
          "text": [
            "['Maria', 'Carlos', 'João', 'Ana']\n"
          ]
        }
      ]
    },
    {
      "cell_type": "code",
      "source": [
        "numeros = [10, 23, 5, 78, 3, 90, 45]\n",
        "maior = numeros[0]\n",
        "for num in numeros:\n",
        "    if num > maior:\n",
        "        maior = num\n",
        "print(maior)\n"
      ],
      "metadata": {
        "colab": {
          "base_uri": "https://localhost:8080/"
        },
        "id": "_YvqrvA_ti23",
        "outputId": "c1e7d72b-2a6a-4b63-d393-7c4a5bbe5e13"
      },
      "execution_count": null,
      "outputs": [
        {
          "output_type": "stream",
          "name": "stdout",
          "text": [
            "90\n"
          ]
        }
      ]
    },
    {
      "cell_type": "code",
      "source": [
        "valores = [1, 2, 2, 3, 4, 4, 5]\n",
        "unicos = []\n",
        "\n",
        "for v in valores:\n",
        "    if v not in unicos:\n",
        "        unicos.append(v)\n",
        "\n",
        "print(unicos)\n"
      ],
      "metadata": {
        "colab": {
          "base_uri": "https://localhost:8080/"
        },
        "id": "6xcT4TyCtpZG",
        "outputId": "bb639e09-582d-42b4-a7bd-fa48bce55abf"
      },
      "execution_count": null,
      "outputs": [
        {
          "output_type": "stream",
          "name": "stdout",
          "text": [
            "[1, 2, 3, 4, 5]\n"
          ]
        }
      ]
    },
    {
      "cell_type": "code",
      "source": [
        "palavra = input(\"Digite uma palavra: \")\n",
        "palavra_invertida = \"\"\n",
        "\n",
        "for i in range(len(palavra)-1, -1, -1):\n",
        "    palavra_invertida += palavra[i]\n",
        "\n",
        "if palavra == palavra_invertida:\n",
        "    print(\"É palíndromo\")\n",
        "else:\n",
        "    print(\"Não é palíndromo\")\n"
      ],
      "metadata": {
        "colab": {
          "base_uri": "https://localhost:8080/"
        },
        "id": "Bq7ergQLtvCj",
        "outputId": "9cab2045-4588-4eb6-c2e7-2997b1e5d197"
      },
      "execution_count": null,
      "outputs": [
        {
          "output_type": "stream",
          "name": "stdout",
          "text": [
            "Digite uma palavra: subi no onibus\n",
            "Não é palíndromo\n"
          ]
        }
      ]
    },
    {
      "cell_type": "code",
      "source": [
        "numero = int(input(\"Digite um número para a contagem regressiva: \"))\n",
        "\n",
        "while numero >= 0:\n",
        "    print(numero)\n",
        "    numero -= 1\n"
      ],
      "metadata": {
        "colab": {
          "base_uri": "https://localhost:8080/"
        },
        "id": "XgCGdmNSC9Bt",
        "outputId": "ee652841-c0cc-49bb-e5a0-b282e38b6267"
      },
      "execution_count": 1,
      "outputs": [
        {
          "output_type": "stream",
          "name": "stdout",
          "text": [
            "Digite um número para a contagem regressiva: 5\n",
            "5\n",
            "4\n",
            "3\n",
            "2\n",
            "1\n",
            "0\n"
          ]
        }
      ]
    },
    {
      "cell_type": "code",
      "source": [
        "notas = {\"Ana\": 8, \"Carlos\": 7, \"Maria\": 10}\n",
        "\n",
        "for aluno, nota in notas.items():\n",
        "    print(f\"{aluno} tirou nota {nota}\")\n"
      ],
      "metadata": {
        "colab": {
          "base_uri": "https://localhost:8080/"
        },
        "id": "v4wNC9ycC-XE",
        "outputId": "22a6e5fb-ca84-48cb-944c-dd59612397e9"
      },
      "execution_count": null,
      "outputs": [
        {
          "output_type": "stream",
          "name": "stdout",
          "text": [
            "Ana tirou nota 8\n",
            "Carlos tirou nota 7\n",
            "Maria tirou nota 10\n"
          ]
        }
      ]
    },
    {
      "cell_type": "code",
      "source": [
        "numeros = [10, 21, 32, 43, 54]\n",
        "pares = []\n",
        "\n",
        "for numero in numeros:\n",
        "    if numero % 2 == 0:\n",
        "        pares.append(numero)\n",
        "\n",
        "print(\"Números pares:\", pares)\n"
      ],
      "metadata": {
        "colab": {
          "base_uri": "https://localhost:8080/"
        },
        "id": "UB8tSRkIDBjl",
        "outputId": "1e1ebd45-eef1-4930-8de8-f00bf183cf9f"
      },
      "execution_count": null,
      "outputs": [
        {
          "output_type": "stream",
          "name": "stdout",
          "text": [
            "Números pares: [10, 32, 54]\n"
          ]
        }
      ]
    },
    {
      "cell_type": "code",
      "source": [
        "frase = input(\"Digite uma frase: \")\n",
        "palavras = frase.split()\n",
        "contagem = {}\n",
        "\n",
        "for palavra in palavras:\n",
        "    if palavra in contagem:\n",
        "        contagem[palavra] += 1\n",
        "    else:\n",
        "        contagem[palavra] = 1\n",
        "\n",
        "print(\"Contagem de palavras:\")\n",
        "for palavra, quantidade in contagem.items():\n",
        "    print(f\"{palavra}: {quantidade}\")\n"
      ],
      "metadata": {
        "colab": {
          "base_uri": "https://localhost:8080/"
        },
        "id": "fTxK1NkNDC2e",
        "outputId": "fac7c8b1-aaa9-4f93-dd78-9cd6b14f951c"
      },
      "execution_count": null,
      "outputs": [
        {
          "output_type": "stream",
          "name": "stdout",
          "text": [
            "Digite uma frase: jaogtabomgg\n",
            "Contagem de palavras:\n",
            "jaogtabomgg: 1\n"
          ]
        }
      ]
    }
  ]
}