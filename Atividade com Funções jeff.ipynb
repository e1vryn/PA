{
  "nbformat": 4,
  "nbformat_minor": 0,
  "metadata": {
    "colab": {
      "provenance": []
    },
    "kernelspec": {
      "name": "python3",
      "display_name": "Python 3"
    },
    "language_info": {
      "name": "python"
    }
  },
  "cells": [
    {
      "cell_type": "code",
      "execution_count": 1,
      "metadata": {
        "colab": {
          "base_uri": "https://localhost:8080/"
        },
        "id": "McW8vqCktV_J",
        "outputId": "9f7bb641-a398-4146-968d-751d308a5b5d"
      },
      "outputs": [
        {
          "output_type": "stream",
          "name": "stdout",
          "text": [
            "Olá! Seja muito bem-vindo(a) ao nosso programa!\n"
          ]
        }
      ],
      "source": [
        "def boas_vindas():\n",
        "    print(\"Olá! Seja muito bem-vindo(a) ao nosso programa!\")\n",
        "\n",
        "boas_vindas()\n"
      ]
    },
    {
      "cell_type": "code",
      "source": [
        "def celsius_para_fahrenheit(celsius):\n",
        "    fahrenheit = celsius * (9 / 5) + 32\n",
        "    return fahrenheit\n",
        "\n",
        "temperatura_c = float(input(\"Digite a temperatura em Celsius: \"))\n",
        "temperatura_f = celsius_para_fahrenheit(temperatura_c)\n",
        "print(f\"{temperatura_c}°C equivalem a {temperatura_f:.2f}°F\")\n",
        "\n"
      ],
      "metadata": {
        "colab": {
          "base_uri": "https://localhost:8080/"
        },
        "id": "mD0CRAp9t1qH",
        "outputId": "40fd39f6-b06b-4740-f495-3087288c4798"
      },
      "execution_count": 3,
      "outputs": [
        {
          "output_type": "stream",
          "name": "stdout",
          "text": [
            "Digite a temperatura em Celsius: 13\n",
            "13.0°C equivalem a 55.40°F\n"
          ]
        }
      ]
    },
    {
      "cell_type": "code",
      "source": [
        "def boas_vindas_personalizada(nome):\n",
        "    print(f\"Olá, {nome}! Seja bem-vindo(a).\")\n",
        "\n",
        "boas_vindas_personalizada(\"Ana\")\n",
        "boas_vindas_personalizada(\"Carlos\")\n"
      ],
      "metadata": {
        "colab": {
          "base_uri": "https://localhost:8080/"
        },
        "id": "MCHBogpVuQd9",
        "outputId": "5c4db995-80d9-4569-925c-d85d8676f7b0"
      },
      "execution_count": 4,
      "outputs": [
        {
          "output_type": "stream",
          "name": "stdout",
          "text": [
            "Olá, Ana! Seja bem-vindo(a).\n",
            "Olá, Carlos! Seja bem-vindo(a).\n"
          ]
        }
      ]
    },
    {
      "cell_type": "code",
      "source": [
        "def calcular_potencias(n):\n",
        "    quadrado = n ** 2\n",
        "    cubo = n ** 3\n",
        "    return quadrado, cubo\n",
        "\n",
        "numero = 4\n",
        "resultado = calcular_potencias(numero)\n",
        "print(f\"O quadrado de {numero} é {resultado[0]} e o cubo é {resultado[1]}\")\n"
      ],
      "metadata": {
        "colab": {
          "base_uri": "https://localhost:8080/"
        },
        "id": "AXqavpe1uaT-",
        "outputId": "92dfa511-89a4-4905-caa9-fcfdc74c3692"
      },
      "execution_count": 5,
      "outputs": [
        {
          "output_type": "stream",
          "name": "stdout",
          "text": [
            "O quadrado de 4 é 16 e o cubo é 64\n"
          ]
        }
      ]
    },
    {
      "cell_type": "code",
      "source": [
        "def contagem_regressiva(inicio):\n",
        "    for i in range(inicio, 0, -1):\n",
        "        print(i)\n",
        "\n",
        "# Exemplo de uso\n",
        "contagem_regressiva(5)\n"
      ],
      "metadata": {
        "colab": {
          "base_uri": "https://localhost:8080/"
        },
        "id": "uq24-xt2uiH1",
        "outputId": "6b145f89-e3a5-4a1b-878a-388c851814fd"
      },
      "execution_count": 6,
      "outputs": [
        {
          "output_type": "stream",
          "name": "stdout",
          "text": [
            "5\n",
            "4\n",
            "3\n",
            "2\n",
            "1\n"
          ]
        }
      ]
    },
    {
      "cell_type": "code",
      "source": [
        "def calcular_desconto(valor_original, percentual_desconto):\n",
        "    valor_final = valor_original * (1 - (percentual_desconto / 100))\n",
        "    return valor_final\n",
        "\n",
        "preco = 189\n",
        "desconto = 15\n",
        "preco_final = calcular_desconto(preco, desconto)\n",
        "print(f\"Preço original: R${preco:.2f}\")\n",
        "print(f\"Desconto: {desconto}%\")\n",
        "print(f\"Preço final: R${preco_final:.2f}\")\n"
      ],
      "metadata": {
        "colab": {
          "base_uri": "https://localhost:8080/"
        },
        "id": "Mm6lsncCupVN",
        "outputId": "939dbe7f-9889-4913-f5f1-945bba34fc58"
      },
      "execution_count": 11,
      "outputs": [
        {
          "output_type": "stream",
          "name": "stdout",
          "text": [
            "Preço original: R$189.00\n",
            "Desconto: 15%\n",
            "Preço final: R$160.65\n"
          ]
        }
      ]
    },
    {
      "cell_type": "code",
      "source": [
        "def encontrar_extremos(numeros):\n",
        "    maior = max(numeros)\n",
        "    menor = min(numeros)\n",
        "    return maior, menor\n",
        "\n",
        "lista = [10, 5, 23, 7, 1, 18]\n",
        "maior_num, menor_num = encontrar_extremos(lista)\n",
        "print(f\"Maior número: {maior_num}\")\n",
        "print(f\"Menor número: {menor_num}\")\n"
      ],
      "metadata": {
        "colab": {
          "base_uri": "https://localhost:8080/"
        },
        "id": "nPbNARM1u2eV",
        "outputId": "8e56500d-9e4e-49b8-d0fc-129a7140c46f"
      },
      "execution_count": 12,
      "outputs": [
        {
          "output_type": "stream",
          "name": "stdout",
          "text": [
            "Maior número: 23\n",
            "Menor número: 1\n"
          ]
        }
      ]
    },
    {
      "cell_type": "code",
      "source": [
        "def calculadora(a, b, operacao):\n",
        "    if operacao == 'soma':\n",
        "        return a + b\n",
        "    elif operacao == 'subtracao':\n",
        "        return a - b\n",
        "    elif operacao == 'multiplicacao':\n",
        "        return a * b\n",
        "    elif operacao == 'divisao':\n",
        "        if b != 0:\n",
        "            return a / b\n",
        "        else:\n",
        "            return \"Erro: Divisão por zero!\"\n",
        "    else:\n",
        "        return \"Erro: Operação inválida\"\n",
        "\n",
        "print(calculadora(10, 5, 'soma'))\n",
        "print(calculadora(10, 0, 'divisao'))\n"
      ],
      "metadata": {
        "colab": {
          "base_uri": "https://localhost:8080/"
        },
        "id": "ARbMsTxevTG2",
        "outputId": "c34edf55-af16-4a2e-8e6c-1baab950bcc3"
      },
      "execution_count": 13,
      "outputs": [
        {
          "output_type": "stream",
          "name": "stdout",
          "text": [
            "15\n",
            "Erro: Divisão por zero!\n"
          ]
        }
      ]
    },
    {
      "cell_type": "code",
      "source": [
        "def enviar_email(destinatario, assunto, corpo=\"Este é um email automático.\"):\n",
        "    print(f\"Para: {destinatario}\")\n",
        "    print(f\"Assunto: {assunto}\")\n",
        "    print(f\"Corpo: {corpo}\")\n",
        "\n",
        "enviar_email(\"exemplo@dominio.com\", \"Aviso\")\n",
        "enviar_email(\"exemplo@dominio.com\", \"Aviso\", \"Olá! Este é o corpo do email.\")\n"
      ],
      "metadata": {
        "colab": {
          "base_uri": "https://localhost:8080/"
        },
        "id": "4S7LEPqGveim",
        "outputId": "ff3523e0-3101-4647-8414-db07564eb63a"
      },
      "execution_count": 14,
      "outputs": [
        {
          "output_type": "stream",
          "name": "stdout",
          "text": [
            "Para: exemplo@dominio.com\n",
            "Assunto: Aviso\n",
            "Corpo: Este é um email automático.\n",
            "Para: exemplo@dominio.com\n",
            "Assunto: Aviso\n",
            "Corpo: Olá! Este é o corpo do email.\n"
          ]
        }
      ]
    },
    {
      "cell_type": "code",
      "source": [
        "def avaliar_aluno(nota):\n",
        "    if nota >= 7:\n",
        "        return \"Aprovado\"\n",
        "    elif nota >= 5 and nota < 7:\n",
        "        return \"Recuperação\"\n",
        "    else:\n",
        "        return \"Reprovado\"\n",
        "\n",
        "\n",
        "print(avaliar_aluno(8.5))\n",
        "print(avaliar_aluno(6))\n",
        "print(avaliar_aluno(4))\n"
      ],
      "metadata": {
        "id": "E8UYPSeTvmHW"
      },
      "execution_count": null,
      "outputs": []
    }
  ]
}