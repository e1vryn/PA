{
 "cells": [
  {
   "cell_type": "code",
   "execution_count": 18,
   "id": "bc8d1e90-032e-44ac-a839-8ff885d2b906",
   "metadata": {},
   "outputs": [
    {
     "name": "stdin",
     "output_type": "stream",
     "text": [
      "Quantas bandas? (mínimo 3):  3\n",
      "Nome da banda:  angel\n",
      "Nota do jurado 1:  10\n",
      "Nota do jurado 2:  10\n",
      "Nota do jurado 3:  9\n",
      "Nota do jurado 4:  10\n",
      "Nota do jurado 5:  9\n"
     ]
    },
    {
     "name": "stdout",
     "output_type": "stream",
     "text": [
      "Média da banda angel: 9.6\n"
     ]
    },
    {
     "name": "stdin",
     "output_type": "stream",
     "text": [
      "Nome da banda:  elvryn\n",
      "Nota do jurado 1:  8\n",
      "Nota do jurado 2:  7\n",
      "Nota do jurado 3:  8\n",
      "Nota do jurado 4:  7\n",
      "Nota do jurado 5:  8\n"
     ]
    },
    {
     "name": "stdout",
     "output_type": "stream",
     "text": [
      "Média da banda elvryn: 7.6\n"
     ]
    },
    {
     "name": "stdin",
     "output_type": "stream",
     "text": [
      "Nome da banda:  sla\n",
      "Nota do jurado 1:  100\n",
      "Nota inválida! Digite uma nota entre 0 e 10:  10\n",
      "Nota do jurado 2:  10\n",
      "Nota do jurado 3:  10\n",
      "Nota do jurado 4:  10\n",
      "Nota do jurado 5:  10\n"
     ]
    },
    {
     "name": "stdout",
     "output_type": "stream",
     "text": [
      "Média da banda sla: 10.0\n",
      "\n",
      "Banda vencedora: sla com média 10.0\n"
     ]
    }
   ],
   "source": [
    "qtd = int(input(\"Quantas bandas? (mínimo 3): \"))\n",
    "\n",
    "while qtd < 3:\n",
    "    qtd = int(input(\"O número de bandas deve ser no mínimo 3. Quantas bandas? \"))\n",
    "\n",
    "bandas = {}\n",
    "vencedor = \"\"\n",
    "maior_media = -1.0\n",
    "\n",
    "for i in range(qtd):\n",
    "    nome = input(\"Nome da banda: \")\n",
    "    notas = []\n",
    "\n",
    "    for j in range(5):\n",
    "        nota = float(input(f\"Nota do jurado {j+1}: \"))\n",
    "        while nota < 0 or nota > 10:\n",
    "            nota = float(input(\"Nota inválida! Digite uma nota entre 0 e 10: \"))\n",
    "        notas.append(nota)\n",
    "\n",
    "    media = sum(notas) / len(notas)\n",
    "    bandas[nome] = media\n",
    "\n",
    "    print(f\"Média da banda {nome}: {round(media, 2)}\")\n",
    "\n",
    "    if media > maior_media:\n",
    "        maior_media = media\n",
    "        vencedor = nome\n",
    "\n",
    "print(f\"\\nBanda vencedora: {vencedor} com média {round(maior_media, 2)}\")\n"
   ]
  },
  {
   "cell_type": "code",
   "execution_count": 16,
   "id": "3e5ea342-fedb-4cf2-8080-9bb8fac96529",
   "metadata": {},
   "outputs": [
    {
     "name": "stdout",
     "output_type": "stream",
     "text": [
      " contagem de palavras \n",
      "3: 1 vez(es)\n"
     ]
    },
    {
     "name": "stdin",
     "output_type": "stream",
     "text": [
      "digite uma frase:  4\n"
     ]
    }
   ],
   "source": [
    "frase = input(\"digite uma frase: \")\n",
    "\n",
    "palavras = frase.split()\n",
    "\n",
    "contagem = {}\n",
    "\n",
    "for palavra in palavras:\n",
    "    if palavra in  contagem:\n",
    "        contagem[palavra] += 1\n",
    "    else:\n",
    "        contagem[palavra] = 1\n",
    "\n",
    "print (\" contagem de palavras \")\n",
    "for palavra, qtd in contagem.items():\n",
    "    print(f\"{palavra}: {qtd} vez(es)\")"
   ]
  },
  {
   "cell_type": "code",
   "execution_count": 25,
   "id": "93e8e607-4d0d-4877-8751-d20fd64468c4",
   "metadata": {},
   "outputs": [
    {
     "name": "stdin",
     "output_type": "stream",
     "text": [
      "digite o 1° numero:  99\n"
     ]
    },
    {
     "name": "stdout",
     "output_type": "stream",
     "text": [
      "os numeros pares são: []\n"
     ]
    },
    {
     "name": "stdin",
     "output_type": "stream",
     "text": [
      "digite o 2° numero:  98\n"
     ]
    },
    {
     "name": "stdout",
     "output_type": "stream",
     "text": [
      "os numeros pares são: [98]\n"
     ]
    },
    {
     "name": "stdin",
     "output_type": "stream",
     "text": [
      "digite o 3° numero:  97\n"
     ]
    },
    {
     "name": "stdout",
     "output_type": "stream",
     "text": [
      "os numeros pares são: [98]\n"
     ]
    },
    {
     "name": "stdin",
     "output_type": "stream",
     "text": [
      "digite o 4° numero:  96\n"
     ]
    },
    {
     "name": "stdout",
     "output_type": "stream",
     "text": [
      "os numeros pares são: [98, 96]\n"
     ]
    },
    {
     "name": "stdin",
     "output_type": "stream",
     "text": [
      "digite o 5° numero:  93\n"
     ]
    },
    {
     "name": "stdout",
     "output_type": "stream",
     "text": [
      "os numeros pares são: [98, 96]\n"
     ]
    },
    {
     "name": "stdin",
     "output_type": "stream",
     "text": [
      "digite o 6° numero:  94\n"
     ]
    },
    {
     "name": "stdout",
     "output_type": "stream",
     "text": [
      "os numeros pares são: [98, 96, 94]\n"
     ]
    },
    {
     "name": "stdin",
     "output_type": "stream",
     "text": [
      "digite o 7° numero:  24\n"
     ]
    },
    {
     "name": "stdout",
     "output_type": "stream",
     "text": [
      "os numeros pares são: [98, 96, 94, 24]\n"
     ]
    },
    {
     "name": "stdin",
     "output_type": "stream",
     "text": [
      "digite o 8° numero:  34\n"
     ]
    },
    {
     "name": "stdout",
     "output_type": "stream",
     "text": [
      "os numeros pares são: [98, 96, 94, 24, 34]\n"
     ]
    },
    {
     "name": "stdin",
     "output_type": "stream",
     "text": [
      "digite o 9° numero:  44\n"
     ]
    },
    {
     "name": "stdout",
     "output_type": "stream",
     "text": [
      "os numeros pares são: [98, 96, 94, 24, 34, 44]\n"
     ]
    },
    {
     "name": "stdin",
     "output_type": "stream",
     "text": [
      "digite o 10° numero:  55\n"
     ]
    },
    {
     "name": "stdout",
     "output_type": "stream",
     "text": [
      "os numeros pares são: [98, 96, 94, 24, 34, 44]\n"
     ]
    }
   ],
   "source": [
    "numeros = []\n",
    "for i in range(10):\n",
    "    n = int(input(f\"digite o {i+1}° numero: \"))\n",
    "    numeros.append(n)\n",
    "    pares = [num for num in numeros if num % 2 == 0]\n",
    "    print(\"os numeros pares são:\", pares)"
   ]
  },
  {
   "cell_type": "code",
   "execution_count": null,
   "id": "77e55192-d0cd-4fb8-a952-f4469c42639f",
   "metadata": {},
   "outputs": [],
   "source": []
  }
 ],
 "metadata": {
  "kernelspec": {
   "display_name": "Python 3 (ipykernel)",
   "language": "python",
   "name": "python3"
  },
  "language_info": {
   "codemirror_mode": {
    "name": "ipython",
    "version": 3
   },
   "file_extension": ".py",
   "mimetype": "text/x-python",
   "name": "python",
   "nbconvert_exporter": "python",
   "pygments_lexer": "ipython3",
   "version": "3.11.4"
  }
 },
 "nbformat": 4,
 "nbformat_minor": 5
}
